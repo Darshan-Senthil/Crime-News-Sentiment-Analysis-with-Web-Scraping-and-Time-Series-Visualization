{
  "nbformat": 4,
  "nbformat_minor": 0,
  "metadata": {
    "colab": {
      "provenance": []
    },
    "kernelspec": {
      "name": "python3",
      "display_name": "Python 3"
    },
    "language_info": {
      "name": "python"
    }
  },
  "cells": [
    {
      "cell_type": "markdown",
      "source": [
        "**Building a Sentiment Analysis Pipeline with Web Scraping, NLTK, Transformers, and TextBlob**"
      ],
      "metadata": {
        "id": "ib8z9Eo0UJR6"
      }
    },
    {
      "cell_type": "code",
      "source": [
        "!pip install requests"
      ],
      "metadata": {
        "colab": {
          "base_uri": "https://localhost:8080/"
        },
        "id": "izXRB8eJRTji",
        "outputId": "05b3b795-5fc8-4224-aceb-ece8f8524a2e"
      },
      "execution_count": 40,
      "outputs": [
        {
          "output_type": "stream",
          "name": "stdout",
          "text": [
            "Requirement already satisfied: requests in /usr/local/lib/python3.10/dist-packages (2.31.0)\n",
            "Requirement already satisfied: charset-normalizer<4,>=2 in /usr/local/lib/python3.10/dist-packages (from requests) (3.3.2)\n",
            "Requirement already satisfied: idna<4,>=2.5 in /usr/local/lib/python3.10/dist-packages (from requests) (3.4)\n",
            "Requirement already satisfied: urllib3<3,>=1.21.1 in /usr/local/lib/python3.10/dist-packages (from requests) (2.0.7)\n",
            "Requirement already satisfied: certifi>=2017.4.17 in /usr/local/lib/python3.10/dist-packages (from requests) (2023.7.22)\n"
          ]
        }
      ]
    },
    {
      "cell_type": "markdown",
      "source": [
        "Setting Up the Environment and Importing Libraries"
      ],
      "metadata": {
        "id": "S71r7aBiUVLc"
      }
    },
    {
      "cell_type": "code",
      "source": [
        "import requests\n",
        "from bs4 import BeautifulSoup\n",
        "import csv\n",
        "import pandas as pd\n",
        "from nltk.sentiment import SentimentIntensityAnalyzer\n",
        "from transformers import pipeline\n",
        "from textblob import TextBlob\n",
        "import nltk\n",
        "\n",
        "# Download the VADER Lexicon\n",
        "nltk.download('vader_lexicon')\n",
        "\n",
        "import matplotlib.pyplot as plt\n",
        "import warnings\n",
        "warnings.filterwarnings('ignore')"
      ],
      "metadata": {
        "colab": {
          "base_uri": "https://localhost:8080/"
        },
        "id": "2gNek4DBSx_H",
        "outputId": "2d5c9bf6-6d4c-4c51-abad-4b98b668fa43"
      },
      "execution_count": 41,
      "outputs": [
        {
          "output_type": "stream",
          "name": "stderr",
          "text": [
            "[nltk_data] Downloading package vader_lexicon to /root/nltk_data...\n",
            "[nltk_data]   Package vader_lexicon is already up-to-date!\n"
          ]
        }
      ]
    },
    {
      "cell_type": "markdown",
      "source": [
        "Keyword-Based Headline Filtering Function"
      ],
      "metadata": {
        "id": "TJuBWS2YUjEY"
      }
    },
    {
      "cell_type": "code",
      "source": [
        "def find_headlines_by_keywords(headlines, keywords):\n",
        "    matching_headlines = []\n",
        "\n",
        "    for headline in headlines:\n",
        "        if any(keyword.lower() in headline.lower() for keyword in keywords):\n",
        "            matching_headlines.append(headline)\n",
        "\n",
        "    return matching_headlines"
      ],
      "metadata": {
        "id": "Dr7J4qMDcOTz"
      },
      "execution_count": 25,
      "outputs": []
    },
    {
      "cell_type": "markdown",
      "source": [
        "Web Scraping Function for Extracting News Headlines and Dates"
      ],
      "metadata": {
        "id": "KaMk0-S-UrAe"
      }
    },
    {
      "cell_type": "code",
      "source": [
        "def scrape_news(url, max_pages=10):\n",
        "    all_headlines = []\n",
        "    all_dates = []\n",
        "\n",
        "    for page_number in range(1, max_pages + 1):\n",
        "        page_url = f\"{url}/page/{page_number}/\"\n",
        "        response = requests.get(page_url)\n",
        "\n",
        "        if response.status_code == 200:\n",
        "            soup = BeautifulSoup(response.text, 'html.parser')\n",
        "\n",
        "            # Select headlines and dates\n",
        "            headlines_elements = soup.select('h2.entry-title span.dfm-title.metered')\n",
        "            dates_elements = soup.select('div.entry-meta time')\n",
        "\n",
        "            # Additional selectors for premium headlines and dates\n",
        "            headlines_elements_premium = soup.select('h2.entry-title span.dfm-title.premium')\n",
        "            dates_elements_premium = soup.select('div.entry-meta time')\n",
        "\n",
        "            # Combine the two sets of headlines and dates\n",
        "            headlines = headlines_elements + headlines_elements_premium\n",
        "            dates = dates_elements + dates_elements_premium\n",
        "\n",
        "            # Extracted data for the current page\n",
        "            extracted_headlines = [headline.get_text() for headline in headlines]\n",
        "            extracted_dates = [date['datetime'] for date in dates]\n",
        "\n",
        "            # Append the data to the overall lists\n",
        "            all_headlines.extend(extracted_headlines)\n",
        "            all_dates.extend(extracted_dates)\n",
        "        else:\n",
        "            print(f\"Failed to retrieve data from page {page_number}\")\n",
        "\n",
        "    return all_headlines, all_dates"
      ],
      "metadata": {
        "id": "o9i_EZMWcOIU"
      },
      "execution_count": 7,
      "outputs": []
    },
    {
      "cell_type": "markdown",
      "source": [
        "Exporting Data to CSV and Preprocessing for Sentiment Analysis"
      ],
      "metadata": {
        "id": "ML6zxR2aVvdF"
      }
    },
    {
      "cell_type": "code",
      "source": [
        "def write_to_csv(all_headlines_list, all_dates_list, csv_filename='crime_news.csv'):\n",
        "    with open(csv_filename, 'w', newline='', encoding='utf-8') as file:\n",
        "        writer = csv.writer(file)\n",
        "        writer.writerow(['Headline', 'Date'])\n",
        "\n",
        "        for headline, date in zip(all_headlines_list, all_dates_list):\n",
        "            writer.writerow([headline, date])\n",
        "\n",
        "    # Convert CSV to DataFrame\n",
        "    df = pd.read_csv(csv_filename)\n",
        "\n",
        "    # Step 3: Clean up headlines\n",
        "    df['Headline'] = clean_headlines(df['Headline'])\n",
        "\n",
        "    # Step 4: Analyze Sentiments\n",
        "    analyze_and_add_sentiments(df)\n",
        "\n",
        "    return df"
      ],
      "metadata": {
        "id": "FWM-8Hm_cN8E"
      },
      "execution_count": 8,
      "outputs": []
    },
    {
      "cell_type": "markdown",
      "source": [
        "Cleaning Headlines: Removing Whitespace, Newlines, and Tabs"
      ],
      "metadata": {
        "id": "_uZ_4gCiVwqU"
      }
    },
    {
      "cell_type": "code",
      "source": [
        "def clean_headlines(headlines):\n",
        "    # Remove leading and trailing whitespaces, newline characters, and tabs\n",
        "    cleaned_headlines = headlines.str.replace(r'\\n|\\t', '').str.strip()\n",
        "    return cleaned_headlines"
      ],
      "metadata": {
        "id": "cF3tB22JcNvw"
      },
      "execution_count": 9,
      "outputs": []
    },
    {
      "cell_type": "markdown",
      "source": [
        "Sentiment Analysis and Adding Scores to DataFrame"
      ],
      "metadata": {
        "id": "PnEYAkgOV942"
      }
    },
    {
      "cell_type": "code",
      "source": [
        "def analyze_and_add_sentiments(df):\n",
        "    #Analyze Sentiments using VADER\n",
        "    vader_sentiments, vader_scores = analyze_headline_sentiments_vader(df['Headline'])\n",
        "    df['VADER_Sentiment'] = vader_sentiments\n",
        "    df['VADER_Score'] = vader_scores\n",
        "\n",
        "\n",
        "    #Analyze Sentiments using TextBlob\n",
        "    textblob_sentiments, textblob_scores = analyze_headline_sentiments_textblob(df['Headline'])\n",
        "    df['TextBlob_Sentiment'] = textblob_sentiments\n",
        "    df['TextBlob_Score'] = textblob_scores"
      ],
      "metadata": {
        "id": "bkAyxBu2cNdA"
      },
      "execution_count": 30,
      "outputs": []
    },
    {
      "cell_type": "markdown",
      "source": [
        "VADER Sentiment Analysis for Headlines"
      ],
      "metadata": {
        "id": "ckTgmkrTV-zm"
      }
    },
    {
      "cell_type": "code",
      "source": [
        "def analyze_headline_sentiments_vader(headlines):\n",
        "    sid = SentimentIntensityAnalyzer()\n",
        "    sentiments = []\n",
        "    scores = []\n",
        "\n",
        "    for headline in headlines:\n",
        "        # Ensure each headline is a string\n",
        "        headline_str = str(headline)\n",
        "\n",
        "        # Get the compound score\n",
        "        compound_score = sid.polarity_scores(headline_str)['compound']\n",
        "\n",
        "        # Classify as positive or negative based on the compound score\n",
        "        if compound_score >= 0:\n",
        "            sentiments.append('positive')\n",
        "        else:\n",
        "            sentiments.append('negative')\n",
        "\n",
        "        scores.append(compound_score)\n",
        "\n",
        "    return sentiments, scores"
      ],
      "metadata": {
        "id": "lMfaXYClcMhb"
      },
      "execution_count": 31,
      "outputs": []
    },
    {
      "cell_type": "markdown",
      "source": [
        "TextBlob Sentiment Analysis for Headlines"
      ],
      "metadata": {
        "id": "a5qejFI6WI7G"
      }
    },
    {
      "cell_type": "code",
      "source": [
        "def analyze_headline_sentiments_textblob(headlines):\n",
        "    sentiments = []\n",
        "    scores = []\n",
        "\n",
        "    for headline in headlines:\n",
        "        # Ensure each headline is a string\n",
        "        headline_str = str(headline)\n",
        "\n",
        "        # Get the polarity score\n",
        "        polarity_score = TextBlob(headline_str).sentiment.polarity\n",
        "\n",
        "        # Classify as positive or negative based on the polarity score\n",
        "        if polarity_score >= 0:\n",
        "            sentiments.append('positive')\n",
        "        else:\n",
        "            sentiments.append('negative')\n",
        "\n",
        "        scores.append(polarity_score)\n",
        "\n",
        "    return sentiments, scores"
      ],
      "metadata": {
        "id": "38D9iLO9cdF6"
      },
      "execution_count": 32,
      "outputs": []
    },
    {
      "cell_type": "code",
      "source": [
        "# Replace 'your-url' with the actual base URL of the news website\n",
        "news_base_url = 'https://www.nydailynews.com/tag/nyc-crime'"
      ],
      "metadata": {
        "id": "7FtmJbKscgCw"
      },
      "execution_count": 13,
      "outputs": []
    },
    {
      "cell_type": "code",
      "source": [
        "#Scrape News\n",
        "crime_headlines, crime_dates = scrape_news(news_base_url)"
      ],
      "metadata": {
        "id": "H16FjNEAcfwY"
      },
      "execution_count": 33,
      "outputs": []
    },
    {
      "cell_type": "markdown",
      "source": [
        "Filtering Headlines by Keywords and Displaying Matching Headlines"
      ],
      "metadata": {
        "id": "B2HUvbh0Wyan"
      }
    },
    {
      "cell_type": "code",
      "source": [
        "keywords = ['Crime', 'man', 'woman']\n",
        "\n",
        "# Clean the headlines\n",
        "cleaned_headlines = clean_headlines(pd.Series(crime_headlines))\n",
        "\n",
        "# Find headlines by keywords using the cleaned headlines\n",
        "matching_headlines = find_headlines_by_keywords(cleaned_headlines, keywords)\n",
        "\n",
        "# Print the result\n",
        "print(\"Matching Headlines:\")\n",
        "for headline in matching_headlines:\n",
        "    print(\"-\", headline)\n"
      ],
      "metadata": {
        "colab": {
          "base_uri": "https://localhost:8080/"
        },
        "id": "rQtnejk8RlN9",
        "outputId": "0ee8847d-b106-41db-e27e-81ab40306a6c"
      },
      "execution_count": 29,
      "outputs": [
        {
          "output_type": "stream",
          "name": "stdout",
          "text": [
            "Matching Headlines:\n",
            "- Teen dead, man wounded in Tribeca street stabbing attack, NYPD says\n",
            "- Ex-diplomat accused of hurling hate words at NYC halal vendors ‘peace-loving’, says lawyer at Manhattan arraignment\n",
            "- Long Island woman, 23, killed in LIE drunk driving crash was a daddy’s girl with bright future\n",
            "- Brooklyn man was ‘sickly’ and no threat to cousin who shot him dead in Bedford-Stuyvesant, victim’s daughter says\n",
            "- Brooklyn woman who threw coffee at dad in Palestinian scarf surrenders to face hate crime charges\n",
            "- Man killed, another wounded in separate Bronx shootings\n",
            "- Woman dies after she was struck by hit-run driver and thrown from elevated Bronx expressway\n",
            "- Driver downed tequila at Manhattan bar before expressway crash killed 1 passenger, critically hurt 3 others: prosecutors\n",
            "- Cops nab Yonkers gunman who shot off-duty NYPD cop\n",
            "- Man, 64, shot dead outside Brooklyn home; person of interest in custody: NYPD\n",
            "- Man fatally slashed in troubled Lower East Side, Manhattan park; teen stabbed in Times Square\n",
            "- Elderly woman killed in hit-and-run ‘peacefully’ crossing Brooklyn street: ‘He never slowed down’\n",
            "- Man fatally shot in Harlem, latest burst of violence at NYC smoke shops\n",
            "- Amid spike in subway assaults,  shoving suspect held on bail after confessing to pushing 85-year-old man onto tracks\n",
            "- 85-year-old man shoved to subway tracks at Rockefeller Center station\n",
            "- Nearly nude dead woman found dragged and dumped on Queens street\n",
            "- Cops arrest woman who slapped teen, man at pro-Palestinian march on Brooklyn Bridge\n",
            "- Feds seize $1.3B in knockoffs from Manhattan storage unit, largest-ever counterfeit bust\n",
            "- Ex-husband shocked by stabbing death of woman by enraged landlord in Queens triple slay (EXCLUSIVE)\n",
            "- NYPD charges homeless man in two unprovoked Bronx street attacks\n",
            "- Gang of six attacks man, 60, as he works out in Bronx park: NYPD\n",
            "- Man stabbed with screwdriver on midtown Manhattan train\n",
            "- 6 arrested in Manhattan Friday night after hundreds of pro-Palestinian protesters swarm Grand Central Terminal\n",
            "- Jewish woman assaulted in Manhattan during confrontation with poster vandals: NYPD\n",
            "- Man run over in Queens was victim of grisly road rage attack: police\n",
            "- NYPD seeks woman who tossed hot coffee at man wearing Palestinian scarf with toddler son at Brooklyn playground; ‘I hope someone burns your baby’\n",
            "- Cops nab suspect in fatal shooting of man chased into Bronx bodega\n",
            "- Man shot in front of parents by stranger he accidentally bumped on Manhattan street\n",
            "- NYC October crime decline offset by safety slide in public housing, transit\n",
            "- Manhattan NYCHA worker uses city-issued utility knife to threaten coworker: NYPD\n",
            "- Brooklyn woman tearing down Israeli hostage posters menaced Jewish public safety volunteer with knife, pepper spray, say cops\n",
            "- Man caught on camera smiling pummels stranger on Queens subway platform\n",
            "- NYC hate crimes against Jews surge by more than 200% amid Israel-Hamas war; ‘community obviously anxious’\n",
            "- Man dies after catching fire in Bronx apartment building: ‘He was a good man’\n",
            "- Man, 30, fatally shot in face in Bronx apartment\n",
            "- Loud arguing preceded bowling ball homicide of Bronx man, neighbor says; brother faces murder charge\n",
            "- Brooklyn man arrested for killing, stuffing mom in box: NYPD\n",
            "- Teens chuck coins at Jewish man during Manhattan antisemitic attack: NYPD\n"
          ]
        }
      ]
    },
    {
      "cell_type": "code",
      "source": [
        "#Write to CSV\n",
        "df = write_to_csv(crime_headlines, crime_dates)"
      ],
      "metadata": {
        "id": "P4tJER7ocfRQ"
      },
      "execution_count": 34,
      "outputs": []
    },
    {
      "cell_type": "code",
      "source": [
        "df['Date'] = pd.to_datetime(df['Date'])\n",
        "\n",
        "# Extract only the date portion and create a new column 'DateOnly'\n",
        "df['DateOnly'] = df['Date'].dt.date"
      ],
      "metadata": {
        "id": "ntqhT8xTTeHa"
      },
      "execution_count": 36,
      "outputs": []
    },
    {
      "cell_type": "markdown",
      "source": [
        "Aggregating and Displaying Average Sentiment Scores Over Time"
      ],
      "metadata": {
        "id": "41hvwVQwWs_1"
      }
    },
    {
      "cell_type": "code",
      "source": [
        "# Group by 'DateOnly' and calculate the average scores\n",
        "avg_scores = df.groupby('DateOnly').agg({'VADER_Score': 'mean', 'TextBlob_Score': 'mean'}).reset_index()\n",
        "\n",
        "# Create a new DataFrame with the desired columns\n",
        "result_df = pd.DataFrame({\n",
        "    'DateOnly': avg_scores['DateOnly'],\n",
        "    'avg_vader': avg_scores['VADER_Score'],\n",
        "    'avg_textblob': avg_scores['TextBlob_Score']\n",
        "})\n",
        "\n",
        "# Display the result_df\n",
        "print(result_df)\n"
      ],
      "metadata": {
        "colab": {
          "base_uri": "https://localhost:8080/"
        },
        "id": "uplXDo-wRd7I",
        "outputId": "421fe117-5b81-4420-f4f5-5376bae04b7a"
      },
      "execution_count": 37,
      "outputs": [
        {
          "output_type": "stream",
          "name": "stdout",
          "text": [
            "     DateOnly  avg_vader  avg_textblob\n",
            "0  2023-11-14  -0.413167      0.075000\n",
            "1  2023-11-15  -0.296483     -0.008235\n",
            "2  2023-11-16  -0.368737      0.043403\n",
            "3  2023-11-17  -0.422394     -0.076742\n",
            "4  2023-11-18  -0.544900      0.070833\n",
            "5  2023-11-19  -0.326583      0.029167\n",
            "6  2023-11-20  -0.330750     -0.008333\n",
            "7  2023-11-21  -0.421650     -0.075732\n",
            "8  2023-11-22  -0.616800     -0.075714\n",
            "9  2023-11-23  -0.530300     -0.122222\n"
          ]
        }
      ]
    },
    {
      "cell_type": "markdown",
      "source": [
        "Visualizing Time Series of Average Sentiment Scores Using Matplotlib"
      ],
      "metadata": {
        "id": "FdQOKgPpW6tU"
      }
    },
    {
      "cell_type": "code",
      "source": [
        "# Group by 'DateOnly' and calculate the average scores\n",
        "avg_scores = df.groupby('DateOnly').agg({'VADER_Score': 'mean', 'TextBlob_Score': 'mean'}).reset_index()\n",
        "\n",
        "# Plot the time series graph for VADER Score\n",
        "plt.figure(figsize=(10, 6))\n",
        "plt.plot(avg_scores['DateOnly'], avg_scores['VADER_Score'], marker='o', label='VADER Score', color='blue')\n",
        "plt.xlabel('Date')\n",
        "plt.ylabel('Average VADER Score')\n",
        "plt.title('Time Series of Average VADER Scores')\n",
        "plt.legend()\n",
        "plt.grid(True)\n",
        "\n",
        "# Add average score annotations for each point\n",
        "for i, txt in enumerate(avg_scores['VADER_Score']):\n",
        "    plt.annotate(f'{txt:.2f}', (avg_scores['DateOnly'].iloc[i], avg_scores['VADER_Score'].iloc[i]), textcoords=\"offset points\", xytext=(0,10), ha='center', color='blue')\n",
        "\n",
        "# Show the plot for VADER Score\n",
        "plt.show()\n",
        "\n",
        "# Plot the time series graph for TextBlob Score\n",
        "plt.figure(figsize=(10, 6))\n",
        "plt.plot(avg_scores['DateOnly'], avg_scores['TextBlob_Score'], marker='o', label='TextBlob Score', color='green')\n",
        "plt.xlabel('Date')\n",
        "plt.ylabel('Average TextBlob Score')\n",
        "plt.title('Time Series of Average TextBlob Scores')\n",
        "plt.legend()\n",
        "plt.grid(True)\n",
        "\n",
        "# Add average score annotations for each point\n",
        "for i, txt in enumerate(avg_scores['TextBlob_Score']):\n",
        "    plt.annotate(f'{txt:.2f}', (avg_scores['DateOnly'].iloc[i], avg_scores['TextBlob_Score'].iloc[i]), textcoords=\"offset points\", xytext=(0,-15), ha='center', color='green')\n",
        "\n",
        "# Show the plot for TextBlob Score\n",
        "plt.show()\n"
      ],
      "metadata": {
        "colab": {
          "base_uri": "https://localhost:8080/",
          "height": 1000
        },
        "id": "a3KioTXlYtBW",
        "outputId": "cc3006e9-3c75-4d8a-b364-c0f6e998c653"
      },
      "execution_count": 38,
      "outputs": [
        {
          "output_type": "display_data",
          "data": {
            "text/plain": [
              "<Figure size 1000x600 with 1 Axes>"
            ],
            "image/png": "[encoded data removed]"
          },
          "metadata": {}
        },
        {
          "output_type": "display_data",
          "data": {
            "text/plain": [
              "<Figure size 1000x600 with 1 Axes>"
            ],
            "image/png": "[encoded data removed]"
          },
          "metadata": {}
        }
      ]
    },
    {
      "cell_type": "code",
      "source": [
        "df.head(20)"
      ],
      "metadata": {
        "colab": {
          "base_uri": "https://localhost:8080/",
          "height": 917
        },
        "id": "3U6WzRNQb4v8",
        "outputId": "eade914a-d5ef-4b37-f3b2-da485184ec50"
      },
      "execution_count": 39,
      "outputs": [
        {
          "output_type": "execute_result",
          "data": {
            "text/plain": [
              "                                             Headline                Date  \\\n",
              "0   Teen dead, man wounded in Tribeca street stabb... 2023-11-23 19:52:06   \n",
              "1   Ex-con shoots Astoria building super, then ope... 2023-11-23 19:53:44   \n",
              "2   ATV rider fatally struck by hit-and-run Jeep d... 2023-11-22 19:31:26   \n",
              "3   Cops hunt stranger who groped 12-year-old girl... 2023-11-22 17:27:56   \n",
              "4   Teen choked unconscious on Queens subway train... 2023-11-23 00:54:00   \n",
              "5   Ex-diplomat accused of hurling hate words at N... 2023-11-22 18:17:27   \n",
              "6   Long Island woman, 23, killed in LIE drunk dri... 2023-11-22 16:16:12   \n",
              "7   Chronic alcohol abuse blamed for death of real... 2023-11-22 16:18:29   \n",
              "8   Brooklyn man was ‘sickly’ and no threat to cou... 2023-11-21 20:19:51   \n",
              "9   Judge set to release two Gambino soldiers for ... 2023-11-21 18:08:12   \n",
              "10  Brooklyn woman who threw coffee at dad in Pale... 2023-11-23 19:52:06   \n",
              "11  Ex-con shot to death outside Queens deli durin... 2023-11-23 19:53:44   \n",
              "12  Man killed, another wounded in separate Bronx ... 2023-11-22 19:31:26   \n",
              "13  Daytime shooting in Prospect Park wounds one, ... 2023-11-22 17:27:56   \n",
              "14  Woman dies after she was struck by hit-run dri... 2023-11-23 00:54:00   \n",
              "15  Birthmark, Adidas shorts on headless corpse wa... 2023-11-22 18:17:27   \n",
              "16  Driver downed tequila at Manhattan bar before ... 2023-11-22 16:16:12   \n",
              "17  Six tea poodle puppies stolen from Bronx apart... 2023-11-22 16:18:29   \n",
              "18  Brooklyn landlord charged only with gun posses... 2023-11-21 20:19:51   \n",
              "19  New arrest as family mourns father of twins gu... 2023-11-21 18:08:12   \n",
              "\n",
              "   VADER_Sentiment  VADER_Score TextBlob_Sentiment  TextBlob_Score    DateOnly  \n",
              "0         negative      -0.8126           negative       -0.266667  2023-11-23  \n",
              "1         positive       0.3612           positive        0.333333  2023-11-23  \n",
              "2         negative      -0.7351           positive        0.000000  2023-11-22  \n",
              "3         positive       0.0000           positive        0.000000  2023-11-22  \n",
              "4         negative      -0.7351           positive        0.000000  2023-11-23  \n",
              "5         negative      -0.7096           negative       -0.800000  2023-11-22  \n",
              "6         negative      -0.7717           negative       -0.010000  2023-11-22  \n",
              "7         negative      -0.9477           negative       -0.100000  2023-11-22  \n",
              "8         negative      -0.8720           negative       -0.329762  2023-11-21  \n",
              "9         positive       0.5448           positive        0.000000  2023-11-21  \n",
              "10        negative      -0.8519           negative       -0.800000  2023-11-23  \n",
              "11        negative      -0.8934           positive        0.000000  2023-11-23  \n",
              "12        negative      -0.6705           negative       -0.200000  2023-11-22  \n",
              "13        positive       0.2960           positive        0.000000  2023-11-22  \n",
              "14        negative      -0.2500           positive        0.000000  2023-11-23  \n",
              "15        negative      -0.7096           negative       -0.100000  2023-11-22  \n",
              "16        negative      -0.8910           negative       -0.100000  2023-11-22  \n",
              "17        negative      -0.4939           positive        0.000000  2023-11-22  \n",
              "18        positive       0.0258           positive        0.000000  2023-11-21  \n",
              "19        negative      -0.7003           positive        0.006162  2023-11-21  "
            ],
            "text/html": [
              "\n",
              "  <div id=\"df-4408fe7a-7bb7-42bb-9f50-b39aa7e3a14c\" class=\"colab-df-container\">\n",
              "    <div>\n",
              "<style scoped>\n",
              "    .dataframe tbody tr th:only-of-type {\n",
              "        vertical-align: middle;\n",
              "    }\n",
              "\n",
              "    .dataframe tbody tr th {\n",
              "        vertical-align: top;\n",
              "    }\n",
              "\n",
              "    .dataframe thead th {\n",
              "        text-align: right;\n",
              "    }\n",
              "</style>\n",
              "<table border=\"1\" class=\"dataframe\">\n",
              "  <thead>\n",
              "    <tr style=\"text-align: right;\">\n",
              "      <th></th>\n",
              "      <th>Headline</th>\n",
              "      <th>Date</th>\n",
              "      <th>VADER_Sentiment</th>\n",
              "      <th>VADER_Score</th>\n",
              "      <th>TextBlob_Sentiment</th>\n",
              "      <th>TextBlob_Score</th>\n",
              "      <th>DateOnly</th>\n",
              "    </tr>\n",
              "  </thead>\n",
              "  <tbody>\n",
              "    <tr>\n",
              "      <th>0</th>\n",
              "      <td>Teen dead, man wounded in Tribeca street stabb...</td>\n",
              "      <td>2023-11-23 19:52:06</td>\n",
              "      <td>negative</td>\n",
              "      <td>-0.8126</td>\n",
              "      <td>negative</td>\n",
              "      <td>-0.266667</td>\n",
              "      <td>2023-11-23</td>\n",
              "    </tr>\n",
              "    <tr>\n",
              "      <th>1</th>\n",
              "      <td>Ex-con shoots Astoria building super, then ope...</td>\n",
              "      <td>2023-11-23 19:53:44</td>\n",
              "      <td>positive</td>\n",
              "      <td>0.3612</td>\n",
              "      <td>positive</td>\n",
              "      <td>0.333333</td>\n",
              "      <td>2023-11-23</td>\n",
              "    </tr>\n",
              "    <tr>\n",
              "      <th>2</th>\n",
              "      <td>ATV rider fatally struck by hit-and-run Jeep d...</td>\n",
              "      <td>2023-11-22 19:31:26</td>\n",
              "      <td>negative</td>\n",
              "      <td>-0.7351</td>\n",
              "      <td>positive</td>\n",
              "      <td>0.000000</td>\n",
              "      <td>2023-11-22</td>\n",
              "    </tr>\n",
              "    <tr>\n",
              "      <th>3</th>\n",
              "      <td>Cops hunt stranger who groped 12-year-old girl...</td>\n",
              "      <td>2023-11-22 17:27:56</td>\n",
              "      <td>positive</td>\n",
              "      <td>0.0000</td>\n",
              "      <td>positive</td>\n",
              "      <td>0.000000</td>\n",
              "      <td>2023-11-22</td>\n",
              "    </tr>\n",
              "    <tr>\n",
              "      <th>4</th>\n",
              "      <td>Teen choked unconscious on Queens subway train...</td>\n",
              "      <td>2023-11-23 00:54:00</td>\n",
              "      <td>negative</td>\n",
              "      <td>-0.7351</td>\n",
              "      <td>positive</td>\n",
              "      <td>0.000000</td>\n",
              "      <td>2023-11-23</td>\n",
              "    </tr>\n",
              "    <tr>\n",
              "      <th>5</th>\n",
              "      <td>Ex-diplomat accused of hurling hate words at N...</td>\n",
              "      <td>2023-11-22 18:17:27</td>\n",
              "      <td>negative</td>\n",
              "      <td>-0.7096</td>\n",
              "      <td>negative</td>\n",
              "      <td>-0.800000</td>\n",
              "      <td>2023-11-22</td>\n",
              "    </tr>\n",
              "    <tr>\n",
              "      <th>6</th>\n",
              "      <td>Long Island woman, 23, killed in LIE drunk dri...</td>\n",
              "      <td>2023-11-22 16:16:12</td>\n",
              "      <td>negative</td>\n",
              "      <td>-0.7717</td>\n",
              "      <td>negative</td>\n",
              "      <td>-0.010000</td>\n",
              "      <td>2023-11-22</td>\n",
              "    </tr>\n",
              "    <tr>\n",
              "      <th>7</th>\n",
              "      <td>Chronic alcohol abuse blamed for death of real...</td>\n",
              "      <td>2023-11-22 16:18:29</td>\n",
              "      <td>negative</td>\n",
              "      <td>-0.9477</td>\n",
              "      <td>negative</td>\n",
              "      <td>-0.100000</td>\n",
              "      <td>2023-11-22</td>\n",
              "    </tr>\n",
              "    <tr>\n",
              "      <th>8</th>\n",
              "      <td>Brooklyn man was ‘sickly’ and no threat to cou...</td>\n",
              "      <td>2023-11-21 20:19:51</td>\n",
              "      <td>negative</td>\n",
              "      <td>-0.8720</td>\n",
              "      <td>negative</td>\n",
              "      <td>-0.329762</td>\n",
              "      <td>2023-11-21</td>\n",
              "    </tr>\n",
              "    <tr>\n",
              "      <th>9</th>\n",
              "      <td>Judge set to release two Gambino soldiers for ...</td>\n",
              "      <td>2023-11-21 18:08:12</td>\n",
              "      <td>positive</td>\n",
              "      <td>0.5448</td>\n",
              "      <td>positive</td>\n",
              "      <td>0.000000</td>\n",
              "      <td>2023-11-21</td>\n",
              "    </tr>\n",
              "    <tr>\n",
              "      <th>10</th>\n",
              "      <td>Brooklyn woman who threw coffee at dad in Pale...</td>\n",
              "      <td>2023-11-23 19:52:06</td>\n",
              "      <td>negative</td>\n",
              "      <td>-0.8519</td>\n",
              "      <td>negative</td>\n",
              "      <td>-0.800000</td>\n",
              "      <td>2023-11-23</td>\n",
              "    </tr>\n",
              "    <tr>\n",
              "      <th>11</th>\n",
              "      <td>Ex-con shot to death outside Queens deli durin...</td>\n",
              "      <td>2023-11-23 19:53:44</td>\n",
              "      <td>negative</td>\n",
              "      <td>-0.8934</td>\n",
              "      <td>positive</td>\n",
              "      <td>0.000000</td>\n",
              "      <td>2023-11-23</td>\n",
              "    </tr>\n",
              "    <tr>\n",
              "      <th>12</th>\n",
              "      <td>Man killed, another wounded in separate Bronx ...</td>\n",
              "      <td>2023-11-22 19:31:26</td>\n",
              "      <td>negative</td>\n",
              "      <td>-0.6705</td>\n",
              "      <td>negative</td>\n",
              "      <td>-0.200000</td>\n",
              "      <td>2023-11-22</td>\n",
              "    </tr>\n",
              "    <tr>\n",
              "      <th>13</th>\n",
              "      <td>Daytime shooting in Prospect Park wounds one, ...</td>\n",
              "      <td>2023-11-22 17:27:56</td>\n",
              "      <td>positive</td>\n",
              "      <td>0.2960</td>\n",
              "      <td>positive</td>\n",
              "      <td>0.000000</td>\n",
              "      <td>2023-11-22</td>\n",
              "    </tr>\n",
              "    <tr>\n",
              "      <th>14</th>\n",
              "      <td>Woman dies after she was struck by hit-run dri...</td>\n",
              "      <td>2023-11-23 00:54:00</td>\n",
              "      <td>negative</td>\n",
              "      <td>-0.2500</td>\n",
              "      <td>positive</td>\n",
              "      <td>0.000000</td>\n",
              "      <td>2023-11-23</td>\n",
              "    </tr>\n",
              "    <tr>\n",
              "      <th>15</th>\n",
              "      <td>Birthmark, Adidas shorts on headless corpse wa...</td>\n",
              "      <td>2023-11-22 18:17:27</td>\n",
              "      <td>negative</td>\n",
              "      <td>-0.7096</td>\n",
              "      <td>negative</td>\n",
              "      <td>-0.100000</td>\n",
              "      <td>2023-11-22</td>\n",
              "    </tr>\n",
              "    <tr>\n",
              "      <th>16</th>\n",
              "      <td>Driver downed tequila at Manhattan bar before ...</td>\n",
              "      <td>2023-11-22 16:16:12</td>\n",
              "      <td>negative</td>\n",
              "      <td>-0.8910</td>\n",
              "      <td>negative</td>\n",
              "      <td>-0.100000</td>\n",
              "      <td>2023-11-22</td>\n",
              "    </tr>\n",
              "    <tr>\n",
              "      <th>17</th>\n",
              "      <td>Six tea poodle puppies stolen from Bronx apart...</td>\n",
              "      <td>2023-11-22 16:18:29</td>\n",
              "      <td>negative</td>\n",
              "      <td>-0.4939</td>\n",
              "      <td>positive</td>\n",
              "      <td>0.000000</td>\n",
              "      <td>2023-11-22</td>\n",
              "    </tr>\n",
              "    <tr>\n",
              "      <th>18</th>\n",
              "      <td>Brooklyn landlord charged only with gun posses...</td>\n",
              "      <td>2023-11-21 20:19:51</td>\n",
              "      <td>positive</td>\n",
              "      <td>0.0258</td>\n",
              "      <td>positive</td>\n",
              "      <td>0.000000</td>\n",
              "      <td>2023-11-21</td>\n",
              "    </tr>\n",
              "    <tr>\n",
              "      <th>19</th>\n",
              "      <td>New arrest as family mourns father of twins gu...</td>\n",
              "      <td>2023-11-21 18:08:12</td>\n",
              "      <td>negative</td>\n",
              "      <td>-0.7003</td>\n",
              "      <td>positive</td>\n",
              "      <td>0.006162</td>\n",
              "      <td>2023-11-21</td>\n",
              "    </tr>\n",
              "  </tbody>\n",
              "</table>\n",
              "</div>\n",
              "    <div class=\"colab-df-buttons\">\n",
              "\n",
              "  <div class=\"colab-df-container\">\n",
              "    <button class=\"colab-df-convert\" onclick=\"convertToInteractive('df-4408fe7a-7bb7-42bb-9f50-b39aa7e3a14c')\"\n",
              "            title=\"Convert this dataframe to an interactive table.\"\n",
              "            style=\"display:none;\">\n",
              "\n",
              "  <svg xmlns=\"http://www.w3.org/2000/svg\" height=\"24px\" viewBox=\"0 -960 960 960\">\n",
              "    <path d=\"M120-120v-720h720v720H120Zm60-500h600v-160H180v160Zm220 220h160v-160H400v160Zm0 220h160v-160H400v160ZM180-400h160v-160H180v160Zm440 0h160v-160H620v160ZM180-180h160v-160H180v160Zm440 0h160v-160H620v160Z\"/>\n",
              "  </svg>\n",
              "    </button>\n",
              "\n",
              "  <style>\n",
              "    .colab-df-container {\n",
              "      display:flex;\n",
              "      gap: 12px;\n",
              "    }\n",
              "\n",
              "    .colab-df-convert {\n",
              "      background-color: #E8F0FE;\n",
              "      border: none;\n",
              "      border-radius: 50%;\n",
              "      cursor: pointer;\n",
              "      display: none;\n",
              "      fill: #1967D2;\n",
              "      height: 32px;\n",
              "      padding: 0 0 0 0;\n",
              "      width: 32px;\n",
              "    }\n",
              "\n",
              "    .colab-df-convert:hover {\n",
              "      background-color: #E2EBFA;\n",
              "      box-shadow: 0px 1px 2px rgba(60, 64, 67, 0.3), 0px 1px 3px 1px rgba(60, 64, 67, 0.15);\n",
              "      fill: #174EA6;\n",
              "    }\n",
              "\n",
              "    .colab-df-buttons div {\n",
              "      margin-bottom: 4px;\n",
              "    }\n",
              "\n",
              "    [theme=dark] .colab-df-convert {\n",
              "      background-color: #3B4455;\n",
              "      fill: #D2E3FC;\n",
              "    }\n",
              "\n",
              "    [theme=dark] .colab-df-convert:hover {\n",
              "      background-color: #434B5C;\n",
              "      box-shadow: 0px 1px 3px 1px rgba(0, 0, 0, 0.15);\n",
              "      filter: drop-shadow(0px 1px 2px rgba(0, 0, 0, 0.3));\n",
              "      fill: #FFFFFF;\n",
              "    }\n",
              "  </style>\n",
              "\n",
              "    <script>\n",
              "      const buttonEl =\n",
              "        document.querySelector('#df-4408fe7a-7bb7-42bb-9f50-b39aa7e3a14c button.colab-df-convert');\n",
              "      buttonEl.style.display =\n",
              "        google.colab.kernel.accessAllowed ? 'block' : 'none';\n",
              "\n",
              "      async function convertToInteractive(key) {\n",
              "        const element = document.querySelector('#df-4408fe7a-7bb7-42bb-9f50-b39aa7e3a14c');\n",
              "        const dataTable =\n",
              "          await google.colab.kernel.invokeFunction('convertToInteractive',\n",
              "                                                    [key], {});\n",
              "        if (!dataTable) return;\n",
              "\n",
              "        const docLinkHtml = 'Like what you see? Visit the ' +\n",
              "          '<a target=\"_blank\" href=https://colab.research.google.com/notebooks/data_table.ipynb>data table notebook</a>'\n",
              "          + ' to learn more about interactive tables.';\n",
              "        element.innerHTML = '';\n",
              "        dataTable['output_type'] = 'display_data';\n",
              "        await google.colab.output.renderOutput(dataTable, element);\n",
              "        const docLink = document.createElement('div');\n",
              "        docLink.innerHTML = docLinkHtml;\n",
              "        element.appendChild(docLink);\n",
              "      }\n",
              "    </script>\n",
              "  </div>\n",
              "\n",
              "\n",
              "<div id=\"df-b70753a1-8342-40cd-b540-cd0d52014cc7\">\n",
              "  <button class=\"colab-df-quickchart\" onclick=\"quickchart('df-b70753a1-8342-40cd-b540-cd0d52014cc7')\"\n",
              "            title=\"Suggest charts\"\n",
              "            style=\"display:none;\">\n",
              "\n",
              "<svg xmlns=\"http://www.w3.org/2000/svg\" height=\"24px\"viewBox=\"0 0 24 24\"\n",
              "     width=\"24px\">\n",
              "    <g>\n",
              "        <path d=\"M19 3H5c-1.1 0-2 .9-2 2v14c0 1.1.9 2 2 2h14c1.1 0 2-.9 2-2V5c0-1.1-.9-2-2-2zM9 17H7v-7h2v7zm4 0h-2V7h2v10zm4 0h-2v-4h2v4z\"/>\n",
              "    </g>\n",
              "</svg>\n",
              "  </button>\n",
              "\n",
              "<style>\n",
              "  .colab-df-quickchart {\n",
              "      --bg-color: #E8F0FE;\n",
              "      --fill-color: #1967D2;\n",
              "      --hover-bg-color: #E2EBFA;\n",
              "      --hover-fill-color: #174EA6;\n",
              "      --disabled-fill-color: #AAA;\n",
              "      --disabled-bg-color: #DDD;\n",
              "  }\n",
              "\n",
              "  [theme=dark] .colab-df-quickchart {\n",
              "      --bg-color: #3B4455;\n",
              "      --fill-color: #D2E3FC;\n",
              "      --hover-bg-color: #434B5C;\n",
              "      --hover-fill-color: #FFFFFF;\n",
              "      --disabled-bg-color: #3B4455;\n",
              "      --disabled-fill-color: #666;\n",
              "  }\n",
              "\n",
              "  .colab-df-quickchart {\n",
              "    background-color: var(--bg-color);\n",
              "    border: none;\n",
              "    border-radius: 50%;\n",
              "    cursor: pointer;\n",
              "    display: none;\n",
              "    fill: var(--fill-color);\n",
              "    height: 32px;\n",
              "    padding: 0;\n",
              "    width: 32px;\n",
              "  }\n",
              "\n",
              "  .colab-df-quickchart:hover {\n",
              "    background-color: var(--hover-bg-color);\n",
              "    box-shadow: 0 1px 2px rgba(60, 64, 67, 0.3), 0 1px 3px 1px rgba(60, 64, 67, 0.15);\n",
              "    fill: var(--button-hover-fill-color);\n",
              "  }\n",
              "\n",
              "  .colab-df-quickchart-complete:disabled,\n",
              "  .colab-df-quickchart-complete:disabled:hover {\n",
              "    background-color: var(--disabled-bg-color);\n",
              "    fill: var(--disabled-fill-color);\n",
              "    box-shadow: none;\n",
              "  }\n",
              "\n",
              "  .colab-df-spinner {\n",
              "    border: 2px solid var(--fill-color);\n",
              "    border-color: transparent;\n",
              "    border-bottom-color: var(--fill-color);\n",
              "    animation:\n",
              "      spin 1s steps(1) infinite;\n",
              "  }\n",
              "\n",
              "  @keyframes spin {\n",
              "    0% {\n",
              "      border-color: transparent;\n",
              "      border-bottom-color: var(--fill-color);\n",
              "      border-left-color: var(--fill-color);\n",
              "    }\n",
              "    20% {\n",
              "      border-color: transparent;\n",
              "      border-left-color: var(--fill-color);\n",
              "      border-top-color: var(--fill-color);\n",
              "    }\n",
              "    30% {\n",
              "      border-color: transparent;\n",
              "      border-left-color: var(--fill-color);\n",
              "      border-top-color: var(--fill-color);\n",
              "      border-right-color: var(--fill-color);\n",
              "    }\n",
              "    40% {\n",
              "      border-color: transparent;\n",
              "      border-right-color: var(--fill-color);\n",
              "      border-top-color: var(--fill-color);\n",
              "    }\n",
              "    60% {\n",
              "      border-color: transparent;\n",
              "      border-right-color: var(--fill-color);\n",
              "    }\n",
              "    80% {\n",
              "      border-color: transparent;\n",
              "      border-right-color: var(--fill-color);\n",
              "      border-bottom-color: var(--fill-color);\n",
              "    }\n",
              "    90% {\n",
              "      border-color: transparent;\n",
              "      border-bottom-color: var(--fill-color);\n",
              "    }\n",
              "  }\n",
              "</style>\n",
              "\n",
              "  <script>\n",
              "    async function quickchart(key) {\n",
              "      const quickchartButtonEl =\n",
              "        document.querySelector('#' + key + ' button');\n",
              "      quickchartButtonEl.disabled = true;  // To prevent multiple clicks.\n",
              "      quickchartButtonEl.classList.add('colab-df-spinner');\n",
              "      try {\n",
              "        const charts = await google.colab.kernel.invokeFunction(\n",
              "            'suggestCharts', [key], {});\n",
              "      } catch (error) {\n",
              "        console.error('Error during call to suggestCharts:', error);\n",
              "      }\n",
              "      quickchartButtonEl.classList.remove('colab-df-spinner');\n",
              "      quickchartButtonEl.classList.add('colab-df-quickchart-complete');\n",
              "    }\n",
              "    (() => {\n",
              "      let quickchartButtonEl =\n",
              "        document.querySelector('#df-b70753a1-8342-40cd-b540-cd0d52014cc7 button');\n",
              "      quickchartButtonEl.style.display =\n",
              "        google.colab.kernel.accessAllowed ? 'block' : 'none';\n",
              "    })();\n",
              "  </script>\n",
              "</div>\n",
              "    </div>\n",
              "  </div>\n"
            ]
          },
          "metadata": {},
          "execution_count": 39
        }
      ]
    }
  ]
}
